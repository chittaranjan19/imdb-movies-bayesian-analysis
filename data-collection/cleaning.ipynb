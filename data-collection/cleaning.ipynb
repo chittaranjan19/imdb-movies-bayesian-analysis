{
 "cells": [
  {
   "cell_type": "code",
   "execution_count": 1,
   "id": "0285ef73",
   "metadata": {},
   "outputs": [],
   "source": [
    "import pandas as pd"
   ]
  },
  {
   "cell_type": "code",
   "execution_count": 2,
   "id": "54eec778",
   "metadata": {},
   "outputs": [],
   "source": [
    "df = pd.read_csv(\"data.csv\")"
   ]
  },
  {
   "cell_type": "code",
   "execution_count": 3,
   "id": "c170fd14",
   "metadata": {},
   "outputs": [
    {
     "data": {
      "text/plain": [
       "(20631, 11)"
      ]
     },
     "execution_count": 3,
     "metadata": {},
     "output_type": "execute_result"
    }
   ],
   "source": [
    "df.shape"
   ]
  },
  {
   "cell_type": "code",
   "execution_count": 4,
   "id": "6ab268f4",
   "metadata": {},
   "outputs": [],
   "source": [
    "df_small = df.dropna(\n",
    "    subset=[\"release_date\", \"budget\", \"revenue\", \"duration\"]\n",
    ")[[\"imdb_id\", \"genres\", \"release_date\", \"budget\", \"revenue\", \"duration\"]]\n",
    "df_small = df_small[df_small[\"genres\"].isin([\"Comedy\", \"Drama\", \"Horror\"])]"
   ]
  },
  {
   "cell_type": "code",
   "execution_count": 5,
   "id": "f2e1f171",
   "metadata": {},
   "outputs": [],
   "source": [
    "df_small[\"month\"] = df_small[\"release_date\"].str.extract(r\"(January|February|March|April|May|June|July|August|September|October|November|December)\")"
   ]
  },
  {
   "cell_type": "code",
   "execution_count": 6,
   "id": "d8d5bbd4",
   "metadata": {},
   "outputs": [],
   "source": [
    "df_small[\"date\"] = df_small[\"release_date\"].str.extract(r\"(\\d\\d?)\")"
   ]
  },
  {
   "cell_type": "code",
   "execution_count": 7,
   "id": "4cc28d72",
   "metadata": {},
   "outputs": [],
   "source": [
    "df_small[\"year\"] = df_small[\"release_date\"].str.extract(r\"(\\d{4})\")"
   ]
  },
  {
   "cell_type": "code",
   "execution_count": 8,
   "id": "ac609a0a",
   "metadata": {},
   "outputs": [],
   "source": [
    "df_small[\"budget\"] = df_small[\"budget\"].str.extract(r\"([\\d,]+)\")\n",
    "df_small[\"budget\"] = df_small[\"budget\"].astype(str).apply(lambda b: int(b.replace(\",\", \"\")))"
   ]
  },
  {
   "cell_type": "code",
   "execution_count": 9,
   "id": "54080f29",
   "metadata": {},
   "outputs": [],
   "source": [
    "df_small[\"revenue\"] = df_small[\"revenue\"].str.extract(r\"([\\d,]+)\")\n",
    "df_small[\"revenue\"] = df_small[\"revenue\"].astype(str).apply(lambda r: int(r.replace(\",\", \"\")))"
   ]
  },
  {
   "cell_type": "code",
   "execution_count": 10,
   "id": "c12ec7a5",
   "metadata": {},
   "outputs": [],
   "source": [
    "import re\n",
    "def convert_duration_to_min(d):\n",
    "    times = re.findall(\"\\d+\", d)\n",
    "    hr, minut = 0, 0\n",
    "    if len(times) == 2:\n",
    "        hr, minut = times\n",
    "    elif \"hr\" in d:\n",
    "        hr = times[0]\n",
    "    elif \"min\" in d:\n",
    "        minut = times[0]\n",
    "    return int(hr) * 60 + int(minut)"
   ]
  },
  {
   "cell_type": "code",
   "execution_count": 11,
   "id": "7e9d98f6",
   "metadata": {
    "scrolled": false
   },
   "outputs": [],
   "source": [
    "df_small[\"duration\"] = df_small[\"duration\"].apply(convert_duration_to_min)"
   ]
  },
  {
   "cell_type": "code",
   "execution_count": 12,
   "id": "642ef697",
   "metadata": {},
   "outputs": [],
   "source": [
    "df_small = df_small.drop(\"release_date\", axis=1)"
   ]
  },
  {
   "cell_type": "code",
   "execution_count": 13,
   "id": "b4a0b226",
   "metadata": {},
   "outputs": [
    {
     "data": {
      "text/plain": [
       "(1336, 8)"
      ]
     },
     "execution_count": 13,
     "metadata": {},
     "output_type": "execute_result"
    }
   ],
   "source": [
    "df_small.shape"
   ]
  },
  {
   "cell_type": "code",
   "execution_count": 14,
   "id": "1c07a3ee",
   "metadata": {},
   "outputs": [
    {
     "data": {
      "text/plain": [
       "Drama     716\n",
       "Comedy    538\n",
       "Horror     82\n",
       "Name: genres, dtype: int64"
      ]
     },
     "execution_count": 14,
     "metadata": {},
     "output_type": "execute_result"
    }
   ],
   "source": [
    "df_small[\"genres\"].value_counts()"
   ]
  },
  {
   "cell_type": "code",
   "execution_count": 15,
   "id": "22904fc7",
   "metadata": {},
   "outputs": [],
   "source": [
    "df_small.reset_index(drop=True).to_csv(\"data_clean.csv\")"
   ]
  },
  {
   "cell_type": "code",
   "execution_count": 16,
   "id": "060ed574",
   "metadata": {},
   "outputs": [
    {
     "data": {
      "text/html": [
       "<div>\n",
       "<style scoped>\n",
       "    .dataframe tbody tr th:only-of-type {\n",
       "        vertical-align: middle;\n",
       "    }\n",
       "\n",
       "    .dataframe tbody tr th {\n",
       "        vertical-align: top;\n",
       "    }\n",
       "\n",
       "    .dataframe thead th {\n",
       "        text-align: right;\n",
       "    }\n",
       "</style>\n",
       "<table border=\"1\" class=\"dataframe\">\n",
       "  <thead>\n",
       "    <tr style=\"text-align: right;\">\n",
       "      <th></th>\n",
       "      <th>imdb_id</th>\n",
       "      <th>genres</th>\n",
       "      <th>budget</th>\n",
       "      <th>revenue</th>\n",
       "      <th>duration</th>\n",
       "      <th>month</th>\n",
       "      <th>date</th>\n",
       "      <th>year</th>\n",
       "    </tr>\n",
       "  </thead>\n",
       "  <tbody>\n",
       "    <tr>\n",
       "      <th>0</th>\n",
       "      <td>113041</td>\n",
       "      <td>Comedy</td>\n",
       "      <td>30000000</td>\n",
       "      <td>11134978</td>\n",
       "      <td>106</td>\n",
       "      <td>December</td>\n",
       "      <td>8</td>\n",
       "      <td>1995</td>\n",
       "    </tr>\n",
       "    <tr>\n",
       "      <th>1</th>\n",
       "      <td>113987</td>\n",
       "      <td>Drama</td>\n",
       "      <td>44000000</td>\n",
       "      <td>2206506</td>\n",
       "      <td>192</td>\n",
       "      <td>January</td>\n",
       "      <td>5</td>\n",
       "      <td>1996</td>\n",
       "    </tr>\n",
       "    <tr>\n",
       "      <th>2</th>\n",
       "      <td>112281</td>\n",
       "      <td>Comedy</td>\n",
       "      <td>30000000</td>\n",
       "      <td>37804076</td>\n",
       "      <td>90</td>\n",
       "      <td>November</td>\n",
       "      <td>10</td>\n",
       "      <td>1995</td>\n",
       "    </tr>\n",
       "    <tr>\n",
       "      <th>3</th>\n",
       "      <td>114057</td>\n",
       "      <td>Drama</td>\n",
       "      <td>11000000</td>\n",
       "      <td>29097</td>\n",
       "      <td>123</td>\n",
       "      <td>January</td>\n",
       "      <td>19</td>\n",
       "      <td>1996</td>\n",
       "    </tr>\n",
       "    <tr>\n",
       "      <th>4</th>\n",
       "      <td>112792</td>\n",
       "      <td>Drama</td>\n",
       "      <td>23000000</td>\n",
       "      <td>14931503</td>\n",
       "      <td>99</td>\n",
       "      <td>August</td>\n",
       "      <td>11</td>\n",
       "      <td>1995</td>\n",
       "    </tr>\n",
       "    <tr>\n",
       "      <th>...</th>\n",
       "      <td>...</td>\n",
       "      <td>...</td>\n",
       "      <td>...</td>\n",
       "      <td>...</td>\n",
       "      <td>...</td>\n",
       "      <td>...</td>\n",
       "      <td>...</td>\n",
       "      <td>...</td>\n",
       "    </tr>\n",
       "    <tr>\n",
       "      <th>1331</th>\n",
       "      <td>1067765</td>\n",
       "      <td>Comedy</td>\n",
       "      <td>4000000</td>\n",
       "      <td>3783</td>\n",
       "      <td>97</td>\n",
       "      <td>February</td>\n",
       "      <td>14</td>\n",
       "      <td>2014</td>\n",
       "    </tr>\n",
       "    <tr>\n",
       "      <th>1332</th>\n",
       "      <td>2382396</td>\n",
       "      <td>Drama</td>\n",
       "      <td>4000000</td>\n",
       "      <td>105881</td>\n",
       "      <td>117</td>\n",
       "      <td>April</td>\n",
       "      <td>11</td>\n",
       "      <td>2014</td>\n",
       "    </tr>\n",
       "    <tr>\n",
       "      <th>1333</th>\n",
       "      <td>2442502</td>\n",
       "      <td>Comedy</td>\n",
       "      <td>18000000</td>\n",
       "      <td>738</td>\n",
       "      <td>99</td>\n",
       "      <td>January</td>\n",
       "      <td>22</td>\n",
       "      <td>2014</td>\n",
       "    </tr>\n",
       "    <tr>\n",
       "      <th>1334</th>\n",
       "      <td>2170299</td>\n",
       "      <td>Comedy</td>\n",
       "      <td>10000000</td>\n",
       "      <td>113301</td>\n",
       "      <td>89</td>\n",
       "      <td>March</td>\n",
       "      <td>28</td>\n",
       "      <td>2014</td>\n",
       "    </tr>\n",
       "    <tr>\n",
       "      <th>1335</th>\n",
       "      <td>3210686</td>\n",
       "      <td>Drama</td>\n",
       "      <td>22000000</td>\n",
       "      <td>25601865</td>\n",
       "      <td>138</td>\n",
       "      <td>February</td>\n",
       "      <td>28</td>\n",
       "      <td>2014</td>\n",
       "    </tr>\n",
       "  </tbody>\n",
       "</table>\n",
       "<p>1336 rows × 8 columns</p>\n",
       "</div>"
      ],
      "text/plain": [
       "      imdb_id  genres    budget   revenue  duration     month  date  year\n",
       "0      113041  Comedy  30000000  11134978       106  December     8  1995\n",
       "1      113987   Drama  44000000   2206506       192   January     5  1996\n",
       "2      112281  Comedy  30000000  37804076        90  November    10  1995\n",
       "3      114057   Drama  11000000     29097       123   January    19  1996\n",
       "4      112792   Drama  23000000  14931503        99    August    11  1995\n",
       "...       ...     ...       ...       ...       ...       ...   ...   ...\n",
       "1331  1067765  Comedy   4000000      3783        97  February    14  2014\n",
       "1332  2382396   Drama   4000000    105881       117     April    11  2014\n",
       "1333  2442502  Comedy  18000000       738        99   January    22  2014\n",
       "1334  2170299  Comedy  10000000    113301        89     March    28  2014\n",
       "1335  3210686   Drama  22000000  25601865       138  February    28  2014\n",
       "\n",
       "[1336 rows x 8 columns]"
      ]
     },
     "execution_count": 16,
     "metadata": {},
     "output_type": "execute_result"
    }
   ],
   "source": [
    "pd.read_csv(\"data_clean.csv\", index_col=0)"
   ]
  },
  {
   "cell_type": "code",
   "execution_count": null,
   "id": "d1c47341",
   "metadata": {},
   "outputs": [],
   "source": []
  }
 ],
 "metadata": {
  "kernelspec": {
   "display_name": "Python 3.8.8 64-bit ('base': conda)",
   "language": "python",
   "name": "python388jvsc74a57bd040d3a090f54c6569ab1632332b64b2c03c39dcf918b08424e98f38b5ae0af88f"
  },
  "language_info": {
   "codemirror_mode": {
    "name": "ipython",
    "version": 3
   },
   "file_extension": ".py",
   "mimetype": "text/x-python",
   "name": "python",
   "nbconvert_exporter": "python",
   "pygments_lexer": "ipython3",
   "version": "3.8.8"
  }
 },
 "nbformat": 4,
 "nbformat_minor": 5
}
